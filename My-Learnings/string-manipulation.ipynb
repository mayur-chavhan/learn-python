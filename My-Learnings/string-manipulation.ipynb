{
 "cells": [
  {
   "cell_type": "code",
   "execution_count": 7,
   "metadata": {},
   "outputs": [
    {
     "data": {
      "text/plain": [
       "'HELLO BOSS!!'"
      ]
     },
     "execution_count": 7,
     "metadata": {},
     "output_type": "execute_result"
    }
   ],
   "source": [
    "name = \"Hello Boss!!\"\n",
    "\n",
    "name.upper()"
   ]
  },
  {
   "cell_type": "code",
   "execution_count": 22,
   "metadata": {},
   "outputs": [
    {
     "data": {
      "text/plain": [
       "True"
      ]
     },
     "execution_count": 22,
     "metadata": {},
     "output_type": "execute_result"
    }
   ],
   "source": [
    "a = 12\n",
    "b = a-10\n",
    "a > b"
   ]
  },
  {
   "cell_type": "code",
   "execution_count": 8,
   "metadata": {},
   "outputs": [
    {
     "name": "stdout",
     "output_type": "stream",
     "text": [
      "Hello Boss!! How are you doing?\n"
     ]
    }
   ],
   "source": [
    "print('{} How are you doing?'.format(name))\n"
   ]
  },
  {
   "cell_type": "code",
   "execution_count": 14,
   "metadata": {},
   "outputs": [
    {
     "name": "stdout",
     "output_type": "stream",
     "text": [
      "My father is gulab, My mother is shobhana and my wife's name is tanaya and my daughter name is iyra\n"
     ]
    }
   ],
   "source": [
    "father ='gulab'\n",
    "mother = 'shobhana'\n",
    "wife = 'tanaya'\n",
    "daughter = 'iyra'\n",
    "\n",
    "print('My father is {1}, My mother is {0} and my wife\\'s name is {2} and my daughter name is {3}'.format(mother,father,wife,daughter))"
   ]
  },
  {
   "cell_type": "code",
   "execution_count": 16,
   "metadata": {},
   "outputs": [
    {
     "name": "stdout",
     "output_type": "stream",
     "text": [
      "My father is gulab, My mother is shobhana and my wife's name is tanaya and my daughter name is iyra\n"
     ]
    }
   ],
   "source": [
    "father ='gulab'\n",
    "mother = 'shobhana'\n",
    "wife = 'tanaya'\n",
    "daughter = 'iyra'\n",
    "\n",
    "print('My father is {f}, My mother is {m} and my wife\\'s name is {w} and my daughter name is {d}'.format(m=mother,f=father,w=wife,d=daughter))"
   ]
  },
  {
   "cell_type": "code",
   "execution_count": 21,
   "metadata": {},
   "outputs": [
    {
     "name": "stdout",
     "output_type": "stream",
     "text": [
      "The result is : 1.66667\n"
     ]
    }
   ],
   "source": [
    "result = 55 / 33\n",
    "\n",
    "print(\"The result is : {r:1.5f}\".format(r=result))"
   ]
  }
 ],
 "metadata": {
  "kernelspec": {
   "display_name": "Python 3",
   "language": "python",
   "name": "python3"
  },
  "language_info": {
   "codemirror_mode": {
    "name": "ipython",
    "version": 3
   },
   "file_extension": ".py",
   "mimetype": "text/x-python",
   "name": "python",
   "nbconvert_exporter": "python",
   "pygments_lexer": "ipython3",
   "version": "3.12.3"
  }
 },
 "nbformat": 4,
 "nbformat_minor": 2
}
