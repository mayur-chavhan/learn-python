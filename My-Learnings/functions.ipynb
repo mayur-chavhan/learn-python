{
 "cells": [
  {
   "cell_type": "code",
   "execution_count": 47,
   "metadata": {},
   "outputs": [
    {
     "data": {
      "text/plain": [
       "'GoodBye'"
      ]
     },
     "execution_count": 47,
     "metadata": {},
     "output_type": "execute_result"
    }
   ],
   "source": [
    "def my_func(x):\n",
    "  if x == True:\n",
    "    return \"Hello\"\n",
    "  elif x == False:\n",
    "    return \"GoodBye\"\n",
    "  \n",
    "x = 5\n",
    "y = 10\n",
    "my_func(x>y)"
   ]
  },
  {
   "cell_type": "code",
   "execution_count": 3,
   "metadata": {},
   "outputs": [
    {
     "data": {
      "text/plain": [
       "('Kelly', 600)"
      ]
     },
     "execution_count": 3,
     "metadata": {},
     "output_type": "execute_result"
    }
   ],
   "source": [
    "# Tuple unpacking \n",
    "\n",
    "work_hours = [('Abby', 100),('John', 200),('Kelly',600)]\n",
    "\n",
    "def employee_check(work_hours):\n",
    "\n",
    "  max_hours = 0\n",
    "  employee_of_month = ''\n",
    "\n",
    "  for employee,hours in work_hours:\n",
    "    if hours > max_hours:\n",
    "      max_hours = hours\n",
    "      employee_of_month = employee\n",
    "    else:\n",
    "      pass\n",
    "  return (employee_of_month,max_hours)\n",
    "\n",
    "employee_check(work_hours)"
   ]
  },
  {
   "cell_type": "code",
   "execution_count": 7,
   "metadata": {},
   "outputs": [
    {
     "name": "stdout",
     "output_type": "stream",
     "text": [
      "The employee of the month Kelly worked total of 600 hours\n"
     ]
    }
   ],
   "source": [
    "employee,hours = employee_check(work_hours)\n",
    "\n",
    "print(f\"The employee of the month {employee} worked total of {hours} hours\")"
   ]
  },
  {
   "cell_type": "code",
   "execution_count": 10,
   "metadata": {},
   "outputs": [
    {
     "data": {
      "text/plain": [
       "'Kelly'"
      ]
     },
     "execution_count": 10,
     "metadata": {},
     "output_type": "execute_result"
    }
   ],
   "source": [
    "item = employee_check(work_hours)\n",
    "\n",
    "item[0]"
   ]
  },
  {
   "cell_type": "code",
   "execution_count": 39,
   "metadata": {},
   "outputs": [
    {
     "name": "stdout",
     "output_type": "stream",
     "text": [
      "Wrong Guess!\n",
      "['O', ' ', ' ']\n"
     ]
    }
   ],
   "source": [
    "# Guess the ball position in cups\n",
    "\n",
    "# Initial list\n",
    "\n",
    "from random import shuffle\n",
    "\n",
    "# Shuffle the balls \n",
    "\n",
    "def shuffle_balls(cup_balls):\n",
    "  shuffle(cup_balls)\n",
    "  return cup_balls\n",
    "\n",
    "# user input for guess\n",
    "\n",
    "def user_guess():\n",
    "  \n",
    "  guess = ''\n",
    "\n",
    "  while guess not in ['0','1','2']:\n",
    "    guess = input(\"Please enter a number between '0','1','2' : \")\n",
    "    return int(guess)\n",
    "\n",
    "# check guess is correct\n",
    "\n",
    "def check_guess(rand_list,guess):\n",
    "  if rand_list[guess] == 'O':\n",
    "    print(\"Correct Guess!\")\n",
    "  else:\n",
    "    print(\"Wrong Guess!\")\n",
    "    print(rand_list)\n",
    "\n",
    "\n",
    "# Main program\n",
    "\n",
    "cups_list = ['O', ' ', ' ']\n",
    "\n",
    "random_ball_pos = shuffle_balls(cups_list)\n",
    "\n",
    "guess = user_guess()\n",
    "\n",
    "check_guess(random_ball_pos,guess)"
   ]
  },
  {
   "cell_type": "code",
   "execution_count": null,
   "metadata": {},
   "outputs": [],
   "source": []
  }
 ],
 "metadata": {
  "kernelspec": {
   "display_name": ".venv",
   "language": "python",
   "name": "python3"
  },
  "language_info": {
   "codemirror_mode": {
    "name": "ipython",
    "version": 3
   },
   "file_extension": ".py",
   "mimetype": "text/x-python",
   "name": "python",
   "nbconvert_exporter": "python",
   "pygments_lexer": "ipython3",
   "version": "3.12.3"
  }
 },
 "nbformat": 4,
 "nbformat_minor": 2
}
